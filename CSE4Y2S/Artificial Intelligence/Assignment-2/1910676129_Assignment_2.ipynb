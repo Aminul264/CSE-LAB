{
  "cells": [
    {
      "cell_type": "markdown",
      "source": [
        "# Question -1: Build a CNN which exactly looks like VGG16. Transfer weights of pre-trained VGG16 to the newly built VGG16."
      ],
      "metadata": {
        "id": "bzWrmY0v-x0L"
      }
    },
    {
      "cell_type": "markdown",
      "metadata": {
        "id": "Ymsq-lnAZ7-2"
      },
      "source": [
        "# Import necessary modules\n"
      ]
    },
    {
      "cell_type": "code",
      "execution_count": 18,
      "metadata": {
        "id": "2hrMv_aPZ7-5"
      },
      "outputs": [],
      "source": [
        "from tensorflow.keras.layers import Input,Dense,Activation,Conv2D,MaxPooling2D,Flatten\n",
        "from tensorflow.keras.models import Model\n",
        "from tensorflow.keras.applications import vgg16"
      ]
    },
    {
      "cell_type": "markdown",
      "source": [],
      "metadata": {
        "id": "f2I84fdL-vUZ"
      }
    },
    {
      "cell_type": "code",
      "execution_count": 40,
      "metadata": {
        "colab": {
          "base_uri": "https://localhost:8080/"
        },
        "id": "DkAsU7daZ7-7",
        "outputId": "87f372bb-38d5-454a-fac8-697d4d7ee8fd"
      },
      "outputs": [
        {
          "output_type": "stream",
          "name": "stdout",
          "text": [
            "Model: \"vgg16\"\n",
            "_________________________________________________________________\n",
            " Layer (type)                Output Shape              Param #   \n",
            "=================================================================\n",
            " input_13 (InputLayer)       [(None, 224, 224, 3)]     0         \n",
            "                                                                 \n",
            " block1_conv1 (Conv2D)       (None, 224, 224, 64)      1792      \n",
            "                                                                 \n",
            " block1_conv2 (Conv2D)       (None, 224, 224, 64)      36928     \n",
            "                                                                 \n",
            " block1_pool (MaxPooling2D)  (None, 112, 112, 64)      0         \n",
            "                                                                 \n",
            " block2_conv1 (Conv2D)       (None, 112, 112, 128)     73856     \n",
            "                                                                 \n",
            " block2_conv2 (Conv2D)       (None, 112, 112, 128)     147584    \n",
            "                                                                 \n",
            " block2_pool (MaxPooling2D)  (None, 56, 56, 128)       0         \n",
            "                                                                 \n",
            " block3_conv1 (Conv2D)       (None, 56, 56, 256)       295168    \n",
            "                                                                 \n",
            " block3_conv2 (Conv2D)       (None, 56, 56, 256)       590080    \n",
            "                                                                 \n",
            " block3_conv3 (Conv2D)       (None, 56, 56, 256)       590080    \n",
            "                                                                 \n",
            " block3_pool (MaxPooling2D)  (None, 28, 28, 256)       0         \n",
            "                                                                 \n",
            " block4_conv1 (Conv2D)       (None, 28, 28, 512)       1180160   \n",
            "                                                                 \n",
            " block4_conv2 (Conv2D)       (None, 28, 28, 512)       2359808   \n",
            "                                                                 \n",
            " block4_conv3 (Conv2D)       (None, 28, 28, 512)       2359808   \n",
            "                                                                 \n",
            " block4_pool (MaxPooling2D)  (None, 14, 14, 512)       0         \n",
            "                                                                 \n",
            " block5_conv1 (Conv2D)       (None, 14, 14, 512)       2359808   \n",
            "                                                                 \n",
            " block5_conv2 (Conv2D)       (None, 14, 14, 512)       2359808   \n",
            "                                                                 \n",
            " block5_conv3 (Conv2D)       (None, 14, 14, 512)       2359808   \n",
            "                                                                 \n",
            " block5_pool (MaxPooling2D)  (None, 7, 7, 512)         0         \n",
            "                                                                 \n",
            " flatten (Flatten)           (None, 25088)             0         \n",
            "                                                                 \n",
            " fc1 (Dense)                 (None, 4096)              102764544 \n",
            "                                                                 \n",
            " fc2 (Dense)                 (None, 4096)              16781312  \n",
            "                                                                 \n",
            " predictions (Dense)         (None, 1000)              4097000   \n",
            "                                                                 \n",
            "=================================================================\n",
            "Total params: 138357544 (527.79 MB)\n",
            "Trainable params: 138357544 (527.79 MB)\n",
            "Non-trainable params: 0 (0.00 Byte)\n",
            "_________________________________________________________________\n",
            "23\n"
          ]
        }
      ],
      "source": [
        "model = vgg16.VGG16()\n",
        "model.summary()\n",
        "\n",
        "# total number of layers\n",
        "print(len(model.layers))"
      ]
    },
    {
      "cell_type": "markdown",
      "metadata": {
        "id": "0NF9MpSzZ7-7"
      },
      "source": [
        "# Implementation of vgg16 Model Architecture (vgg16)"
      ]
    },
    {
      "cell_type": "code",
      "execution_count": 51,
      "metadata": {
        "colab": {
          "base_uri": "https://localhost:8080/"
        },
        "id": "kayu-EE_Z7-7",
        "outputId": "f2e32597-47b6-461b-c25d-82ac322133c1"
      },
      "outputs": [
        {
          "output_type": "stream",
          "name": "stdout",
          "text": [
            "Model: \"vgg16_implementatio\"\n",
            "_________________________________________________________________\n",
            " Layer (type)                Output Shape              Param #   \n",
            "=================================================================\n",
            " input_1 (InputLayer)        [(None, 224, 224, 3)]     0         \n",
            "                                                                 \n",
            " block1_conv1 (Conv2D)       (None, 224, 224, 64)      1792      \n",
            "                                                                 \n",
            " block1_conv2 (Conv2D)       (None, 224, 224, 64)      36928     \n",
            "                                                                 \n",
            " block1_pool (MaxPooling2D)  (None, 112, 112, 64)      0         \n",
            "                                                                 \n",
            " block2_conv1 (Conv2D)       (None, 112, 112, 128)     73856     \n",
            "                                                                 \n",
            " block2_conv2 (Conv2D)       (None, 112, 112, 128)     147584    \n",
            "                                                                 \n",
            " block2_pool (MaxPooling2D)  (None, 56, 56, 128)       0         \n",
            "                                                                 \n",
            " block3_conv1 (Conv2D)       (None, 56, 56, 256)       295168    \n",
            "                                                                 \n",
            " block3_conv2 (Conv2D)       (None, 56, 56, 256)       590080    \n",
            "                                                                 \n",
            " block3_conv3 (Conv2D)       (None, 56, 56, 256)       590080    \n",
            "                                                                 \n",
            " block3_pool (MaxPooling2D)  (None, 28, 28, 256)       0         \n",
            "                                                                 \n",
            " block4_conv1 (Conv2D)       (None, 28, 28, 512)       1180160   \n",
            "                                                                 \n",
            " block4_conv2 (Conv2D)       (None, 28, 28, 512)       2359808   \n",
            "                                                                 \n",
            " block4_conv3 (Conv2D)       (None, 28, 28, 512)       2359808   \n",
            "                                                                 \n",
            " block4_pool (MaxPooling2D)  (None, 14, 14, 512)       0         \n",
            "                                                                 \n",
            " block5_conv1 (Conv2D)       (None, 14, 14, 512)       2359808   \n",
            "                                                                 \n",
            " block5_conv2 (Conv2D)       (None, 14, 14, 512)       2359808   \n",
            "                                                                 \n",
            " block5_conv3 (Conv2D)       (None, 14, 14, 512)       2359808   \n",
            "                                                                 \n",
            " block5_pool (MaxPooling2D)  (None, 7, 7, 512)         0         \n",
            "                                                                 \n",
            " flatten (Flatten)           (None, 25088)             0         \n",
            "                                                                 \n",
            " fc1 (Dense)                 (None, 4096)              102764544 \n",
            "                                                                 \n",
            " fc2 (Dense)                 (None, 4096)              16781312  \n",
            "                                                                 \n",
            " predictions (Dense)         (None, 1000)              4097000   \n",
            "                                                                 \n",
            "=================================================================\n",
            "Total params: 138357544 (527.79 MB)\n",
            "Trainable params: 138357544 (527.79 MB)\n",
            "Non-trainable params: 0 (0.00 Byte)\n",
            "_________________________________________________________________\n"
          ]
        },
        {
          "output_type": "execute_result",
          "data": {
            "text/plain": [
              "23"
            ]
          },
          "metadata": {},
          "execution_count": 51
        }
      ],
      "source": [
        "input_shape = (224,224,3)\n",
        "inputs = Input(input_shape,name = 'input_1')\n",
        "# block-1\n",
        "x = Conv2D(filters = 64, kernel_size = (3,3),padding = 'same',activation = 'relu',name = 'block1_conv1')(inputs)\n",
        "x = Conv2D(filters = 64, kernel_size = (3,3),padding = 'same',activation = 'relu',name = 'block1_conv2')(x)\n",
        "# x = MaxPooling2D(pool_size=(4,4),padding='valid')(x)\n",
        "x = MaxPooling2D(name = 'block1_pool')(x)\n",
        "# block-2\n",
        "x = Conv2D(filters = 128, kernel_size = (3,3),padding = 'same',activation = 'relu',name = 'block2_conv1')(x)\n",
        "x = Conv2D(filters = 128, kernel_size = (3,3),padding = 'same',activation = 'relu',name = 'block2_conv2')(x)\n",
        "x = MaxPooling2D(name = 'block2_pool')(x)\n",
        "# block-3\n",
        "x = Conv2D(filters = 256, kernel_size = (3,3),padding = 'same',activation = 'relu',name = 'block3_conv1')(x)\n",
        "x = Conv2D(filters = 256, kernel_size = (3,3),padding = 'same',activation = 'relu',name = 'block3_conv2')(x)\n",
        "x = Conv2D(filters = 256, kernel_size = (3,3),padding = 'same',activation = 'relu',name = 'block3_conv3')(x)\n",
        "x = MaxPooling2D(name = 'block3_pool')(x)\n",
        "# block-4\n",
        "x = Conv2D(filters = 512, kernel_size = (3,3),padding = 'same',activation = 'relu',name = 'block4_conv1')(x)\n",
        "x = Conv2D(filters = 512, kernel_size = (3,3),padding = 'same',activation = 'relu',name = 'block4_conv2')(x)\n",
        "x = Conv2D(filters = 512, kernel_size = (3,3),padding = 'same',activation = 'relu',name = 'block4_conv3')(x)\n",
        "x = MaxPooling2D(name = 'block4_pool')(x)\n",
        "# block-5\n",
        "x = Conv2D(filters = 512, kernel_size = (3,3),padding = 'same',activation = 'relu',name = 'block5_conv1')(x)\n",
        "x = Conv2D(filters = 512, kernel_size = (3,3),padding = 'same',activation = 'relu',name = 'block5_conv2')(x)\n",
        "x = Conv2D(filters = 512, kernel_size = (3,3),padding = 'same',activation = 'relu',name = 'block5_conv3')(x)\n",
        "x = MaxPooling2D(name = 'block5_pool')(x)\n",
        "# flatten\n",
        "x = Flatten(name = 'flatten')(x)\n",
        "x = Dense(4096,name = 'fc1', activation = 'relu')(x)\n",
        "x = Dense(4096,name = 'fc2', activation = 'relu')(x)\n",
        "\n",
        "outputs = Dense(1000,activation='softmax',name = 'predictions')(x)\n",
        "new_model = Model(inputs,outputs,name = 'vgg16_implementatio')\n",
        "new_model.summary()\n",
        "\n",
        "len(new_model.layers)"
      ]
    },
    {
      "cell_type": "markdown",
      "metadata": {
        "id": "b6J0D402Z7-7"
      },
      "source": [
        "# Transfer weights from pre_trained vgg16 into new_vgg16_model"
      ]
    },
    {
      "cell_type": "code",
      "execution_count": 39,
      "metadata": {
        "id": "N390qRHqZ7-8",
        "colab": {
          "base_uri": "https://localhost:8080/"
        },
        "outputId": "0baa86a9-4158-4082-fc75-e7bfdfeb07d8"
      },
      "outputs": [
        {
          "output_type": "execute_result",
          "data": {
            "text/plain": [
              "[<tf.Variable 'block1_conv1/kernel:0' shape=(3, 3, 3, 64) dtype=float32, numpy=\n",
              " array([[[[ 4.29470569e-01,  1.17273867e-01,  3.40129584e-02, ...,\n",
              "           -1.32241577e-01, -5.33475243e-02,  7.57738389e-03],\n",
              "          [ 5.50379455e-01,  2.08774377e-02,  9.88311544e-02, ...,\n",
              "           -8.48205537e-02, -5.11389151e-02,  3.74943428e-02],\n",
              "          [ 4.80015397e-01, -1.72696680e-01,  3.75577137e-02, ...,\n",
              "           -1.27135560e-01, -5.02991639e-02,  3.48965675e-02]],\n",
              " \n",
              "         [[ 3.73466998e-01,  1.62062630e-01,  1.70863140e-03, ...,\n",
              "           -1.48207128e-01, -2.35300660e-01, -6.30356818e-02],\n",
              "          [ 4.40074533e-01,  4.73412387e-02,  5.13819456e-02, ...,\n",
              "           -9.88498852e-02, -2.96195745e-01, -7.04357103e-02],\n",
              "          [ 4.08547401e-01, -1.70375049e-01, -4.96297423e-03, ...,\n",
              "           -1.22360572e-01, -2.76450396e-01, -3.90796512e-02]],\n",
              " \n",
              "         [[-6.13601133e-02,  1.35693997e-01, -1.15694344e-01, ...,\n",
              "           -1.40158370e-01, -3.77666801e-01, -3.00509870e-01],\n",
              "          [-8.13870355e-02,  4.18543853e-02, -1.01763301e-01, ...,\n",
              "           -9.43124294e-02, -5.05662560e-01, -3.83694321e-01],\n",
              "          [-6.51455522e-02, -1.54351532e-01, -1.38038069e-01, ...,\n",
              "           -1.29404560e-01, -4.62243795e-01, -3.23985279e-01]]],\n",
              " \n",
              " \n",
              "        [[[ 2.74769872e-01,  1.48350164e-01,  1.61559835e-01, ...,\n",
              "           -1.14316158e-01,  3.65494519e-01,  3.39938998e-01],\n",
              "          [ 3.45739067e-01,  3.10493708e-02,  2.40750551e-01, ...,\n",
              "           -6.93419054e-02,  4.37116861e-01,  4.13171440e-01],\n",
              "          [ 3.10477257e-01, -1.87601492e-01,  1.66595340e-01, ...,\n",
              "           -9.88388434e-02,  4.04058546e-01,  3.92561197e-01]],\n",
              " \n",
              "         [[ 3.86807770e-02,  2.02298447e-01,  1.56414255e-01, ...,\n",
              "           -5.20089604e-02,  2.57149011e-01,  3.71682674e-01],\n",
              "          [ 4.06322069e-02,  6.58102185e-02,  2.20311403e-01, ...,\n",
              "           -3.78979952e-03,  2.69412428e-01,  4.09505904e-01],\n",
              "          [ 5.02023660e-02, -1.77571565e-01,  1.51188180e-01, ...,\n",
              "           -1.40649760e-02,  2.59300828e-01,  4.23764467e-01]],\n",
              " \n",
              "         [[-3.67223352e-01,  1.61688417e-01, -8.99365395e-02, ...,\n",
              "           -1.45945460e-01, -2.71823555e-01, -2.39718184e-01],\n",
              "          [-4.53501314e-01,  4.62574959e-02, -6.67438358e-02, ...,\n",
              "           -1.03502415e-01, -3.45792353e-01, -2.92486250e-01],\n",
              "          [-4.03383434e-01, -1.74399972e-01, -1.09849639e-01, ...,\n",
              "           -1.25688612e-01, -3.14026326e-01, -2.32839763e-01]]],\n",
              " \n",
              " \n",
              "        [[[-5.74681684e-02,  1.29344285e-01,  1.29030216e-02, ...,\n",
              "           -1.41449392e-01,  2.41099641e-01,  4.55602147e-02],\n",
              "          [-5.86349145e-02,  3.16787697e-02,  7.59588331e-02, ...,\n",
              "           -1.05017252e-01,  3.39550197e-01,  9.86374393e-02],\n",
              "          [-5.08716851e-02, -1.66002661e-01,  1.56279504e-02, ...,\n",
              "           -1.49742723e-01,  3.06801915e-01,  8.82701725e-02]],\n",
              " \n",
              "         [[-2.62249678e-01,  1.71572417e-01,  5.44555223e-05, ...,\n",
              "           -1.22728683e-01,  2.44687453e-01,  5.32913655e-02],\n",
              "          [-3.30669671e-01,  5.47101051e-02,  4.86797579e-02, ...,\n",
              "           -8.29023942e-02,  2.95466095e-01,  7.44469985e-02],\n",
              "          [-2.85227507e-01, -1.66666731e-01, -7.96697661e-03, ...,\n",
              "           -1.09780088e-01,  2.79203743e-01,  9.46525261e-02]],\n",
              " \n",
              "         [[-3.50096762e-01,  1.38710454e-01, -1.25339806e-01, ...,\n",
              "           -1.53092295e-01, -1.39917329e-01, -2.65075237e-01],\n",
              "          [-4.85030204e-01,  4.23195846e-02, -1.12076312e-01, ...,\n",
              "           -1.18306056e-01, -1.67058021e-01, -3.22241962e-01],\n",
              "          [-4.18516338e-01, -1.57048807e-01, -1.49133086e-01, ...,\n",
              "           -1.56839803e-01, -1.42874300e-01, -2.69694626e-01]]]],\n",
              "       dtype=float32)>]"
            ]
          },
          "metadata": {},
          "execution_count": 39
        }
      ],
      "source": [
        "for i in range(len(model.layers)):\n",
        "    new_model.layers[i].set_weights(model.layers[i].get_weights())\n",
        "\n",
        "new_model.weights[:1]"
      ]
    },
    {
      "cell_type": "code",
      "execution_count": 21,
      "metadata": {
        "id": "I6Q-aG9DZ7-8"
      },
      "outputs": [],
      "source": []
    },
    {
      "cell_type": "markdown",
      "source": [
        "# Question-2 :  Build a CNN which will look like VGG16, but will not be exactly VGG16 by fulfilling the following conditions"
      ],
      "metadata": {
        "id": "ytXSVsYCAUMj"
      }
    },
    {
      "cell_type": "markdown",
      "source": [
        "# Custom model Architecture like vgg16"
      ],
      "metadata": {
        "id": "7dFWGALMA-fE"
      }
    },
    {
      "cell_type": "code",
      "source": [
        "# input size of images with 3 channel(rgb)\n",
        "input_shape = (32,32,3)\n",
        "inputs = Input(input_shape,name = 'inputLayer')\n",
        "# block-1\n",
        "x = Conv2D(filters = 32, kernel_size = (5,5),padding = 'same',activation = 'relu',name = 'block1_conv1')(inputs)\n",
        "x = Conv2D(filters = 32, kernel_size = (5,5),padding = 'same',activation = 'relu',name = 'block1_conv2')(x)\n",
        "x = Conv2D(filters = 32, kernel_size = (5,5),padding = 'same',activation = 'relu',name = 'block1_conv3')(x)\n",
        "x = MaxPooling2D(pool_size=(3,3),strides=(1,1), padding='valid', name = 'block1_pool')(x)\n",
        "# block-2\n",
        "x = Conv2D(filters = 64, kernel_size = (5,5),padding = 'same',activation = 'relu',name = 'block2_conv1')(x)\n",
        "x = Conv2D(filters = 64, kernel_size = (5,5),padding = 'same',activation = 'relu',name = 'block2_conv2')(x)\n",
        "x = MaxPooling2D(pool_size=(3,3),strides=(1,1), padding='valid', name = 'block2_pool')(x)\n",
        "# block-3\n",
        "x = Conv2D(filters = 128, kernel_size = (5,5),padding = 'same',activation = 'relu',name = 'block3_conv1')(x)\n",
        "x = Conv2D(filters = 128, kernel_size = (5,5),padding = 'same',activation = 'relu',name = 'block3_conv2')(x)\n",
        "x = Conv2D(filters = 128, kernel_size = (5,5),padding = 'same',activation = 'relu',name = 'block3_conv3')(x)\n",
        "x = MaxPooling2D(pool_size=(3,3),strides=(1,1), padding='valid', name = 'block3_pool')(x)\n",
        "# block-4\n",
        "x = Conv2D(filters = 512, kernel_size = (5,5),padding = 'same',activation = 'relu',name = 'block4_conv1')(x)\n",
        "x = Conv2D(filters = 512, kernel_size = (5,5),padding = 'same',activation = 'relu',name = 'block4_conv2')(x)\n",
        "x = MaxPooling2D(pool_size=(3,3),strides=(1,1), padding='valid', name = 'block4_pool')(x)\n",
        "# block-5\n",
        "x = Conv2D(filters = 128, kernel_size = (5,5),padding = 'same',activation = 'relu',name = 'block5_conv1')(x)\n",
        "x = Conv2D(filters = 128, kernel_size = (5,5),padding = 'same',activation = 'relu',name = 'block5_conv2')(x)\n",
        "x = Conv2D(filters = 128, kernel_size = (5,5),padding = 'same',activation = 'relu',name = 'block5_conv3')(x)\n",
        "x = MaxPooling2D(pool_size=(3,3),strides=(1,1), padding='valid', name = 'block5_pool')(x)\n",
        "# # flatten\n",
        "x = Flatten(name = 'flatten')(x)\n",
        "# # fully connected layer\n",
        "x = Dense(2048,name = 'fc1', activation = 'relu')(x)\n",
        "x = Dense(2048,name = 'fc2', activation = 'relu')(x)\n",
        "x = Dense(2048,name = 'fc3', activation = 'relu')(x)\n",
        "\n",
        "# output layer for binary classificatin\n",
        "outputs = Dense(1,activation='sigmoid',name = 'outputLayer')(x)\n",
        "custom_model = Model(inputs,outputs,name = 'custom_vgg16')\n",
        "custom_model.summary()\n",
        "\n",
        "len(custom_model.layers)"
      ],
      "metadata": {
        "colab": {
          "base_uri": "https://localhost:8080/"
        },
        "id": "BHJtxcGbAW-K",
        "outputId": "3065c58f-df9f-49bd-8be6-7f6df972eeae"
      },
      "execution_count": 72,
      "outputs": [
        {
          "output_type": "stream",
          "name": "stdout",
          "text": [
            "Model: \"custom_vgg16\"\n",
            "_________________________________________________________________\n",
            " Layer (type)                Output Shape              Param #   \n",
            "=================================================================\n",
            " inputLayer (InputLayer)     [(None, 32, 32, 3)]       0         \n",
            "                                                                 \n",
            " block1_conv1 (Conv2D)       (None, 32, 32, 32)        2432      \n",
            "                                                                 \n",
            " block1_conv2 (Conv2D)       (None, 32, 32, 32)        25632     \n",
            "                                                                 \n",
            " block1_conv3 (Conv2D)       (None, 32, 32, 32)        25632     \n",
            "                                                                 \n",
            " block1_pool (MaxPooling2D)  (None, 30, 30, 32)        0         \n",
            "                                                                 \n",
            " block2_conv1 (Conv2D)       (None, 30, 30, 64)        51264     \n",
            "                                                                 \n",
            " block2_conv2 (Conv2D)       (None, 30, 30, 64)        102464    \n",
            "                                                                 \n",
            " block2_pool (MaxPooling2D)  (None, 28, 28, 64)        0         \n",
            "                                                                 \n",
            " block3_conv1 (Conv2D)       (None, 28, 28, 128)       204928    \n",
            "                                                                 \n",
            " block3_conv2 (Conv2D)       (None, 28, 28, 128)       409728    \n",
            "                                                                 \n",
            " block3_conv3 (Conv2D)       (None, 28, 28, 128)       409728    \n",
            "                                                                 \n",
            " block3_pool (MaxPooling2D)  (None, 26, 26, 128)       0         \n",
            "                                                                 \n",
            " block4_conv1 (Conv2D)       (None, 26, 26, 512)       1638912   \n",
            "                                                                 \n",
            " block4_conv2 (Conv2D)       (None, 26, 26, 512)       6554112   \n",
            "                                                                 \n",
            " block4_pool (MaxPooling2D)  (None, 24, 24, 512)       0         \n",
            "                                                                 \n",
            " block5_conv1 (Conv2D)       (None, 24, 24, 128)       1638528   \n",
            "                                                                 \n",
            " block5_conv2 (Conv2D)       (None, 24, 24, 128)       409728    \n",
            "                                                                 \n",
            " block5_conv3 (Conv2D)       (None, 24, 24, 128)       409728    \n",
            "                                                                 \n",
            " block5_pool (MaxPooling2D)  (None, 22, 22, 128)       0         \n",
            "                                                                 \n",
            " flatten (Flatten)           (None, 61952)             0         \n",
            "                                                                 \n",
            " fc1 (Dense)                 (None, 2048)              126879744 \n",
            "                                                                 \n",
            " fc2 (Dense)                 (None, 2048)              4196352   \n",
            "                                                                 \n",
            " fc3 (Dense)                 (None, 2048)              4196352   \n",
            "                                                                 \n",
            " outputLayer (Dense)         (None, 1)                 2049      \n",
            "                                                                 \n",
            "=================================================================\n",
            "Total params: 147157313 (561.36 MB)\n",
            "Trainable params: 147157313 (561.36 MB)\n",
            "Non-trainable params: 0 (0.00 Byte)\n",
            "_________________________________________________________________\n"
          ]
        },
        {
          "output_type": "execute_result",
          "data": {
            "text/plain": [
              "24"
            ]
          },
          "metadata": {},
          "execution_count": 72
        }
      ]
    }
  ],
  "metadata": {
    "kernelspec": {
      "display_name": "Python 3",
      "language": "python",
      "name": "python3"
    },
    "language_info": {
      "codemirror_mode": {
        "name": "ipython",
        "version": 3
      },
      "file_extension": ".py",
      "mimetype": "text/x-python",
      "name": "python",
      "nbconvert_exporter": "python",
      "pygments_lexer": "ipython3",
      "version": "3.11.4"
    },
    "colab": {
      "provenance": []
    }
  },
  "nbformat": 4,
  "nbformat_minor": 0
}